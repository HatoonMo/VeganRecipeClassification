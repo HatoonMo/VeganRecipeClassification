{
 "cells": [
  {
   "cell_type": "code",
   "execution_count": 1,
   "metadata": {},
   "outputs": [],
   "source": [
    "import numpy as np\n",
    "import pandas as pd\n",
    "import matplotlib.pyplot as plt\n",
    "%matplotlib inline\n",
    "from nltk.corpus import stopwords\n",
    "from nltk.tokenize import word_tokenize\n",
    "from nltk.tokenize import sent_tokenize, word_tokenize\n",
    "from nltk.stem import PorterStemmer\n",
    "from sklearn.model_selection import train_test_split\n",
    "from sklearn.neighbors import KNeighborsClassifier\n",
    "from sklearn.metrics import accuracy_score\n",
    "from sklearn.feature_extraction.text import TfidfVectorizer\n",
    "from sklearn.feature_extraction.text import CountVectorizer\n",
    "from sklearn.preprocessing import LabelEncoder\n",
    "from sklearn.linear_model import LogisticRegression\n",
    "from sklearn.tree import DecisionTreeClassifier"
   ]
  },
  {
   "cell_type": "code",
   "execution_count": 2,
   "metadata": {},
   "outputs": [],
   "source": [
    "# LOAD Data csv\n",
    "recipe = pd.read_csv(r'recipes.csv',header=0,encoding = 'unicode_escape').dropna()  \n"
   ]
  },
  {
   "cell_type": "code",
   "execution_count": 3,
   "metadata": {},
   "outputs": [
    {
     "data": {
      "text/html": [
       "<div>\n",
       "<style scoped>\n",
       "    .dataframe tbody tr th:only-of-type {\n",
       "        vertical-align: middle;\n",
       "    }\n",
       "\n",
       "    .dataframe tbody tr th {\n",
       "        vertical-align: top;\n",
       "    }\n",
       "\n",
       "    .dataframe thead th {\n",
       "        text-align: right;\n",
       "    }\n",
       "</style>\n",
       "<table border=\"1\" class=\"dataframe\">\n",
       "  <thead>\n",
       "    <tr style=\"text-align: right;\">\n",
       "      <th></th>\n",
       "      <th>ingredients</th>\n",
       "      <th>diet</th>\n",
       "    </tr>\n",
       "  </thead>\n",
       "  <tbody>\n",
       "    <tr>\n",
       "      <th>20119</th>\n",
       "      <td>8 chicken legs,3 bay leaves,1 teaspoon dried t...</td>\n",
       "      <td>0</td>\n",
       "    </tr>\n",
       "    <tr>\n",
       "      <th>20120</th>\n",
       "      <td>3 cups pitted dates (14 ounces),1 (750-ml) bot...</td>\n",
       "      <td>1</td>\n",
       "    </tr>\n",
       "    <tr>\n",
       "      <th>20121</th>\n",
       "      <td>Cooking spray,One 3 1/2-pound chicken, cut int...</td>\n",
       "      <td>0</td>\n",
       "    </tr>\n",
       "    <tr>\n",
       "      <th>20122</th>\n",
       "      <td>4 cups water,1 750-ml bottle vodka (about 3 1/...</td>\n",
       "      <td>0</td>\n",
       "    </tr>\n",
       "    <tr>\n",
       "      <th>20123</th>\n",
       "      <td>1/2 cup plus 2 tablespoons water,1/2 cup sugar...</td>\n",
       "      <td>1</td>\n",
       "    </tr>\n",
       "    <tr>\n",
       "      <th>20124</th>\n",
       "      <td>1 side pork spareribs, about 3 pounds,1/2 cup ...</td>\n",
       "      <td>0</td>\n",
       "    </tr>\n",
       "    <tr>\n",
       "      <th>20125</th>\n",
       "      <td>2 large egg whites,3 oz Parmigiano-Reggiano, f...</td>\n",
       "      <td>0</td>\n",
       "    </tr>\n",
       "    <tr>\n",
       "      <th>20126</th>\n",
       "      <td>5 1/2 cups (or more) low-salt chicken broth,2 ...</td>\n",
       "      <td>0</td>\n",
       "    </tr>\n",
       "    <tr>\n",
       "      <th>20127</th>\n",
       "      <td>1 small tomato,1 small onion, finely chopped (...</td>\n",
       "      <td>0</td>\n",
       "    </tr>\n",
       "    <tr>\n",
       "      <th>20128</th>\n",
       "      <td>4 tablespoons olive oil,4 shallots, thinly sli...</td>\n",
       "      <td>0</td>\n",
       "    </tr>\n",
       "    <tr>\n",
       "      <th>20129</th>\n",
       "      <td>1 18-pound fully cooked bone-in smoked ham, ro...</td>\n",
       "      <td>0</td>\n",
       "    </tr>\n",
       "  </tbody>\n",
       "</table>\n",
       "</div>"
      ],
      "text/plain": [
       "                                             ingredients  diet\n",
       "20119  8 chicken legs,3 bay leaves,1 teaspoon dried t...     0\n",
       "20120  3 cups pitted dates (14 ounces),1 (750-ml) bot...     1\n",
       "20121  Cooking spray,One 3 1/2-pound chicken, cut int...     0\n",
       "20122  4 cups water,1 750-ml bottle vodka (about 3 1/...     0\n",
       "20123  1/2 cup plus 2 tablespoons water,1/2 cup sugar...     1\n",
       "20124  1 side pork spareribs, about 3 pounds,1/2 cup ...     0\n",
       "20125  2 large egg whites,3 oz Parmigiano-Reggiano, f...     0\n",
       "20126  5 1/2 cups (or more) low-salt chicken broth,2 ...     0\n",
       "20127  1 small tomato,1 small onion, finely chopped (...     0\n",
       "20128  4 tablespoons olive oil,4 shallots, thinly sli...     0\n",
       "20129  1 18-pound fully cooked bone-in smoked ham, ro...     0"
      ]
     },
     "execution_count": 3,
     "metadata": {},
     "output_type": "execute_result"
    }
   ],
   "source": [
    "recipe.tail(11)\n"
   ]
  },
  {
   "cell_type": "code",
   "execution_count": 4,
   "metadata": {},
   "outputs": [
    {
     "data": {
      "text/plain": [
       "<matplotlib.axes._subplots.AxesSubplot at 0x7f6a2d3e5a58>"
      ]
     },
     "execution_count": 4,
     "metadata": {},
     "output_type": "execute_result"
    },
    {
     "data": {
      "image/png": "[encoded data removed]",
      "text/plain": [
       "<Figure size 432x288 with 1 Axes>"
      ]
     },
     "metadata": {},
     "output_type": "display_data"
    }
   ],
   "source": [
    "# vegan vs non-vegan count\n",
    "plt.style.use('ggplot')\n",
    "recipe['diet'].value_counts().plot(kind='bar')"
   ]
  },
  {
   "cell_type": "code",
   "execution_count": 5,
   "metadata": {},
   "outputs": [
    {
     "data": {
      "text/plain": [
       "0      cups low sodium vegetable or chicken stock  ...\n",
       "1          cups whipping cream   medium onions  cho...\n",
       "2      fennel bulb  sometimes called anise   stalks...\n",
       "Name: ingredients, dtype: object"
      ]
     },
     "execution_count": 5,
     "metadata": {},
     "output_type": "execute_result"
    }
   ],
   "source": [
    "# remove punctuation + numbers + non alphabetic characters\n",
    "recipe['ingredients'] = recipe['ingredients'].str.replace(\"[^a-zA-Z]\", ' ')\n",
    "\n",
    "recipe['ingredients'].head(3)"
   ]
  },
  {
   "cell_type": "code",
   "execution_count": 6,
   "metadata": {},
   "outputs": [
    {
     "name": "stdout",
     "output_type": "stream",
     "text": [
      "                                         ingredients  diet\n",
      "0  cup low sodium veget chicken stock cup dri bro...     0\n",
      "1  cup whip cream medium onion chop teaspoon salt...     0\n",
      "2  fennel bulb sometim call anis stalk discard bu...     0\n"
     ]
    }
   ],
   "source": [
    "\n",
    "temp = []\n",
    "for s in recipe['ingredients']:\n",
    "    # Remove Stop Words\n",
    "    stop_words = set(stopwords.words('english'))\n",
    "    word_tokens = word_tokenize(s)\n",
    "    filtered_sentence = [w for w in word_tokens if w not in stop_words]\n",
    "    filtered_sentence = []\n",
    "    for w in word_tokens:\n",
    "        if w not in stop_words:\n",
    "            filtered_sentence.append(w)\n",
    "    s = ' '.join(filtered_sentence)\n",
    "    # Porter Stemmer Algorithm to Remove low-content adjectives\n",
    "    ps = PorterStemmer()\n",
    "    words = word_tokenize(s)\n",
    "    word_ps = []\n",
    "    for w in words:\n",
    "        word_ps.append(ps.stem(w))\n",
    "    s = ' '.join(word_ps)    \n",
    "    temp.append(s)\n",
    "recipe['ingredients'] = temp\n",
    "\n",
    "print(recipe.head(3))"
   ]
  },
  {
   "cell_type": "code",
   "execution_count": 7,
   "metadata": {},
   "outputs": [
    {
     "name": "stdout",
     "output_type": "stream",
     "text": [
      "649598\n"
     ]
    }
   ],
   "source": [
    "# convert the textual representation of information into  a matrix of TF-IDF features.\n",
    "vectorizer = TfidfVectorizer()\n",
    "X = vectorizer.fit_transform(recipe['ingredients'])\n",
    "print(X.size)\n",
    "Y = []\n",
    "Y = recipe['diet']"
   ]
  },
  {
   "cell_type": "code",
   "execution_count": 8,
   "metadata": {},
   "outputs": [],
   "source": [
    "# split Dataset\n",
    "X_train, X_test, y_train, y_test = train_test_split(X, Y, test_size=0.2, random_state=100)"
   ]
  },
  {
   "cell_type": "code",
   "execution_count": 20,
   "metadata": {},
   "outputs": [
    {
     "name": "stdout",
     "output_type": "stream",
     "text": [
      "K: 142.0 Accuracy is  90.3990024937656 %\n"
     ]
    }
   ],
   "source": [
    "# perform KNN Algorithm\n",
    "# the value of K is chosen based on this function k = sqrt(n) where n is the number of data points\n",
    "K=np.round(np.sqrt(len(recipe)))\n",
    "\n",
    "neigh = KNeighborsClassifier(n_neighbors=71, weights='uniform', algorithm='auto')\n",
    "neigh.fit(X_train, y_train)\n",
    "y_pred = neigh.predict(X_test)\n",
    "print(\"K:\", K, \"Accuracy is \", accuracy_score(y_test, y_pred) * 100, \"%\")"
   ]
  },
  {
   "cell_type": "code",
   "execution_count": 10,
   "metadata": {},
   "outputs": [
    {
     "name": "stdout",
     "output_type": "stream",
     "text": [
      "Logistic Regression Accuracy is  91.32169576059852 %\n"
     ]
    },
    {
     "name": "stderr",
     "output_type": "stream",
     "text": [
      "/home/hatoon/.local/lib/python3.6/site-packages/sklearn/linear_model/logistic.py:433: FutureWarning: Default solver will be changed to 'lbfgs' in 0.22. Specify a solver to silence this warning.\n",
      "  FutureWarning)\n"
     ]
    }
   ],
   "source": [
    "\n",
    "logistic = LogisticRegression()\n",
    "logistic.fit(X_train, y_train)\n",
    "\n",
    "print(\"Logistic Regression Accuracy is \", logistic.score(X_test, y_test) * 100, \"%\")"
   ]
  },
  {
   "cell_type": "code",
   "execution_count": 11,
   "metadata": {},
   "outputs": [
    {
     "name": "stdout",
     "output_type": "stream",
     "text": [
      "Decision Tree Classifier Accuracy is  91.49625935162095 %\n"
     ]
    }
   ],
   "source": [
    "tree = DecisionTreeClassifier()\n",
    "tree.fit(X_train, y_train)\n",
    "print(\"Decision Tree Classifier Accuracy is \", tree.score(X_test, y_test) * 100, \"%\")"
   ]
  },
  {
   "cell_type": "code",
   "execution_count": null,
   "metadata": {},
   "outputs": [],
   "source": []
  }
 ],
 "metadata": {
  "kernelspec": {
   "display_name": "Python 3",
   "language": "python",
   "name": "python3"
  },
  "language_info": {
   "codemirror_mode": {
    "name": "ipython",
    "version": 3
   },
   "file_extension": ".py",
   "mimetype": "text/x-python",
   "name": "python",
   "nbconvert_exporter": "python",
   "pygments_lexer": "ipython3",
   "version": "3.6.6"
  }
 },
 "nbformat": 4,
 "nbformat_minor": 2
}
